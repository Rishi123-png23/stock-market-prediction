{
 "cells": [
  {
   "cell_type": "code",
   "execution_count": 32,
   "id": "ec6db2b4",
   "metadata": {},
   "outputs": [],
   "source": [
    "import numpy as np \n",
    "import pandas as pd \n",
    "import matplotlib.pyplot as plt \n",
    "from sklearn.preprocessing import MinMaxScaler"
   ]
  },
  {
   "cell_type": "code",
   "execution_count": 33,
   "id": "03afb73d",
   "metadata": {},
   "outputs": [],
   "source": [
    "import tensorflow as tf"
   ]
  },
  {
   "cell_type": "code",
   "execution_count": 34,
   "id": "17480e96",
   "metadata": {},
   "outputs": [],
   "source": [
    "from keras.models import Sequential\n",
    "from keras.layers import Dense,LSTM,Dropout"
   ]
  },
  {
   "cell_type": "code",
   "execution_count": 35,
   "id": "9dc53912",
   "metadata": {},
   "outputs": [
    {
     "data": {
      "text/html": [
       "<div>\n",
       "<style scoped>\n",
       "    .dataframe tbody tr th:only-of-type {\n",
       "        vertical-align: middle;\n",
       "    }\n",
       "\n",
       "    .dataframe tbody tr th {\n",
       "        vertical-align: top;\n",
       "    }\n",
       "\n",
       "    .dataframe thead th {\n",
       "        text-align: right;\n",
       "    }\n",
       "</style>\n",
       "<table border=\"1\" class=\"dataframe\">\n",
       "  <thead>\n",
       "    <tr style=\"text-align: right;\">\n",
       "      <th></th>\n",
       "      <th>Date</th>\n",
       "      <th>Open</th>\n",
       "      <th>High</th>\n",
       "      <th>Low</th>\n",
       "      <th>Close</th>\n",
       "      <th>Volume</th>\n",
       "    </tr>\n",
       "  </thead>\n",
       "  <tbody>\n",
       "    <tr>\n",
       "      <th>0</th>\n",
       "      <td>1/3/2012</td>\n",
       "      <td>325.25</td>\n",
       "      <td>332.83</td>\n",
       "      <td>324.97</td>\n",
       "      <td>663.59</td>\n",
       "      <td>7,380,500</td>\n",
       "    </tr>\n",
       "    <tr>\n",
       "      <th>1</th>\n",
       "      <td>1/4/2012</td>\n",
       "      <td>331.27</td>\n",
       "      <td>333.87</td>\n",
       "      <td>329.08</td>\n",
       "      <td>666.45</td>\n",
       "      <td>5,749,400</td>\n",
       "    </tr>\n",
       "    <tr>\n",
       "      <th>2</th>\n",
       "      <td>1/5/2012</td>\n",
       "      <td>329.83</td>\n",
       "      <td>330.75</td>\n",
       "      <td>326.89</td>\n",
       "      <td>657.21</td>\n",
       "      <td>6,590,300</td>\n",
       "    </tr>\n",
       "    <tr>\n",
       "      <th>3</th>\n",
       "      <td>1/6/2012</td>\n",
       "      <td>328.34</td>\n",
       "      <td>328.77</td>\n",
       "      <td>323.68</td>\n",
       "      <td>648.24</td>\n",
       "      <td>5,405,900</td>\n",
       "    </tr>\n",
       "    <tr>\n",
       "      <th>4</th>\n",
       "      <td>1/9/2012</td>\n",
       "      <td>322.04</td>\n",
       "      <td>322.29</td>\n",
       "      <td>309.46</td>\n",
       "      <td>620.76</td>\n",
       "      <td>11,688,800</td>\n",
       "    </tr>\n",
       "  </tbody>\n",
       "</table>\n",
       "</div>"
      ],
      "text/plain": [
       "       Date    Open    High     Low   Close      Volume\n",
       "0  1/3/2012  325.25  332.83  324.97  663.59   7,380,500\n",
       "1  1/4/2012  331.27  333.87  329.08  666.45   5,749,400\n",
       "2  1/5/2012  329.83  330.75  326.89  657.21   6,590,300\n",
       "3  1/6/2012  328.34  328.77  323.68  648.24   5,405,900\n",
       "4  1/9/2012  322.04  322.29  309.46  620.76  11,688,800"
      ]
     },
     "execution_count": 35,
     "metadata": {},
     "output_type": "execute_result"
    }
   ],
   "source": [
    "data = pd.read_csv('Google_train_data.csv')\n",
    "data.head()"
   ]
  },
  {
   "cell_type": "code",
   "execution_count": 36,
   "id": "b6d5864b",
   "metadata": {},
   "outputs": [
    {
     "name": "stdout",
     "output_type": "stream",
     "text": [
      "<class 'pandas.core.frame.DataFrame'>\n",
      "RangeIndex: 1258 entries, 0 to 1257\n",
      "Data columns (total 6 columns):\n",
      " #   Column  Non-Null Count  Dtype  \n",
      "---  ------  --------------  -----  \n",
      " 0   Date    1258 non-null   object \n",
      " 1   Open    1258 non-null   float64\n",
      " 2   High    1258 non-null   float64\n",
      " 3   Low     1258 non-null   float64\n",
      " 4   Close   1258 non-null   object \n",
      " 5   Volume  1258 non-null   object \n",
      "dtypes: float64(3), object(3)\n",
      "memory usage: 59.1+ KB\n"
     ]
    }
   ],
   "source": [
    "data.info()"
   ]
  },
  {
   "cell_type": "code",
   "execution_count": 37,
   "id": "bd222b60",
   "metadata": {},
   "outputs": [],
   "source": [
    "data[\"Close\"]=pd.to_numeric(data.Close,errors='coerce')\n",
    "data = data.dropna()\n",
    "trainData = data.iloc[:,4:5].values"
   ]
  },
  {
   "cell_type": "code",
   "execution_count": 38,
   "id": "97f28ac5",
   "metadata": {},
   "outputs": [
    {
     "name": "stdout",
     "output_type": "stream",
     "text": [
      "<class 'pandas.core.frame.DataFrame'>\n",
      "Int64Index: 1149 entries, 0 to 1257\n",
      "Data columns (total 6 columns):\n",
      " #   Column  Non-Null Count  Dtype  \n",
      "---  ------  --------------  -----  \n",
      " 0   Date    1149 non-null   object \n",
      " 1   Open    1149 non-null   float64\n",
      " 2   High    1149 non-null   float64\n",
      " 3   Low     1149 non-null   float64\n",
      " 4   Close   1149 non-null   float64\n",
      " 5   Volume  1149 non-null   object \n",
      "dtypes: float64(4), object(2)\n",
      "memory usage: 62.8+ KB\n"
     ]
    }
   ],
   "source": [
    "data.info()"
   ]
  },
  {
   "cell_type": "code",
   "execution_count": 39,
   "id": "ae212fdd",
   "metadata": {},
   "outputs": [
    {
     "data": {
      "text/plain": [
       "(1149, 1)"
      ]
     },
     "execution_count": 39,
     "metadata": {},
     "output_type": "execute_result"
    }
   ],
   "source": [
    "sc = MinMaxScaler(feature_range=(0,1))\n",
    "trainData = sc.fit_transform(trainData)\n",
    "trainData.shape"
   ]
  },
  {
   "cell_type": "code",
   "execution_count": 40,
   "id": "dae0863f",
   "metadata": {},
   "outputs": [],
   "source": [
    "X_train = []\n",
    "y_train = []\n",
    "\n",
    "for i in range (60,1149): #60 : timestep // 1149 : length of the data\n",
    "    X_train.append(trainData[i-60:i,0]) \n",
    "    y_train.append(trainData[i,0])\n",
    "\n",
    "X_train,y_train = np.array(X_train),np.array(y_train)"
   ]
  },
  {
   "cell_type": "code",
   "execution_count": 41,
   "id": "1dd5debd",
   "metadata": {},
   "outputs": [
    {
     "data": {
      "text/plain": [
       "(1089, 60, 1)"
      ]
     },
     "execution_count": 41,
     "metadata": {},
     "output_type": "execute_result"
    }
   ],
   "source": [
    "X_train = np.reshape(X_train,(X_train.shape[0],X_train.shape[1],1)) #adding the batch_size axis\n",
    "X_train.shape"
   ]
  },
  {
   "cell_type": "code",
   "execution_count": 42,
   "id": "e11630c9",
   "metadata": {},
   "outputs": [],
   "source": [
    "model = Sequential()\n",
    "\n",
    "model.add(LSTM(units=100, return_sequences = True, input_shape =(X_train.shape[1],1)))\n",
    "model.add(Dropout(0.2))\n",
    "\n",
    "model.add(LSTM(units=100, return_sequences = True))\n",
    "model.add(Dropout(0.2))\n",
    "\n",
    "model.add(LSTM(units=100, return_sequences = True))\n",
    "model.add(Dropout(0.2))\n",
    "\n",
    "model.add(LSTM(units=100, return_sequences = False))\n",
    "model.add(Dropout(0.2))\n",
    "\n",
    "model.add(Dense(units =1))\n",
    "model.compile(optimizer='adam',loss=\"mean_squared_error\")"
   ]
  },
  {
   "cell_type": "code",
   "execution_count": 43,
   "id": "469787f2",
   "metadata": {},
   "outputs": [
    {
     "name": "stdout",
     "output_type": "stream",
     "text": [
      "Epoch 1/20\n",
      "35/35 - 27s - loss: 0.0340 - 27s/epoch - 781ms/step\n",
      "Epoch 2/20\n",
      "35/35 - 8s - loss: 0.0128 - 8s/epoch - 217ms/step\n",
      "Epoch 3/20\n",
      "35/35 - 8s - loss: 0.0094 - 8s/epoch - 215ms/step\n",
      "Epoch 4/20\n",
      "35/35 - 8s - loss: 0.0098 - 8s/epoch - 218ms/step\n",
      "Epoch 5/20\n",
      "35/35 - 7s - loss: 0.0070 - 7s/epoch - 209ms/step\n",
      "Epoch 6/20\n",
      "35/35 - 7s - loss: 0.0109 - 7s/epoch - 211ms/step\n",
      "Epoch 7/20\n",
      "35/35 - 7s - loss: 0.0068 - 7s/epoch - 213ms/step\n",
      "Epoch 8/20\n",
      "35/35 - 7s - loss: 0.0074 - 7s/epoch - 213ms/step\n",
      "Epoch 9/20\n",
      "35/35 - 7s - loss: 0.0082 - 7s/epoch - 206ms/step\n",
      "Epoch 10/20\n",
      "35/35 - 7s - loss: 0.0056 - 7s/epoch - 210ms/step\n",
      "Epoch 11/20\n",
      "35/35 - 8s - loss: 0.0070 - 8s/epoch - 215ms/step\n",
      "Epoch 12/20\n",
      "35/35 - 7s - loss: 0.0054 - 7s/epoch - 206ms/step\n",
      "Epoch 13/20\n",
      "35/35 - 7s - loss: 0.0056 - 7s/epoch - 204ms/step\n",
      "Epoch 14/20\n",
      "35/35 - 7s - loss: 0.0054 - 7s/epoch - 209ms/step\n",
      "Epoch 15/20\n",
      "35/35 - 7s - loss: 0.0059 - 7s/epoch - 207ms/step\n",
      "Epoch 16/20\n",
      "35/35 - 7s - loss: 0.0053 - 7s/epoch - 201ms/step\n",
      "Epoch 17/20\n",
      "35/35 - 7s - loss: 0.0068 - 7s/epoch - 206ms/step\n",
      "Epoch 18/20\n",
      "35/35 - 7s - loss: 0.0054 - 7s/epoch - 203ms/step\n",
      "Epoch 19/20\n",
      "35/35 - 7s - loss: 0.0065 - 7s/epoch - 214ms/step\n",
      "Epoch 20/20\n",
      "35/35 - 7s - loss: 0.0049 - 7s/epoch - 210ms/step\n"
     ]
    }
   ],
   "source": [
    "hist = model.fit(X_train, y_train, epochs = 20, batch_size = 32, verbose=2)"
   ]
  },
  {
   "cell_type": "code",
   "execution_count": 44,
   "id": "6682e8b4",
   "metadata": {},
   "outputs": [
    {
     "data": {
      "image/png": "[encoded data removed]",
      "text/plain": [
       "<Figure size 432x288 with 1 Axes>"
      ]
     },
     "metadata": {
      "needs_background": "light"
     },
     "output_type": "display_data"
    }
   ],
   "source": [
    "plt.plot(hist.history['loss'])\n",
    "plt.title('Training model loss')\n",
    "plt.ylabel('loss')\n",
    "plt.xlabel('epoch')\n",
    "plt.legend(['train'], loc='upper left')\n",
    "plt.show()"
   ]
  },
  {
   "cell_type": "code",
   "execution_count": 45,
   "id": "b684253c",
   "metadata": {},
   "outputs": [
    {
     "data": {
      "text/plain": [
       "(192, 60, 1)"
      ]
     },
     "execution_count": 45,
     "metadata": {},
     "output_type": "execute_result"
    }
   ],
   "source": [
    "testData = pd.read_csv('Google_test_data.csv')\n",
    "testData[\"Close\"]=pd.to_numeric(testData.Close,errors='coerce')\n",
    "testData = testData.dropna()\n",
    "testData = testData.iloc[:,4:5]\n",
    "y_test = testData.iloc[60:,0:].values \n",
    "#input array for the model\n",
    "inputClosing = testData.iloc[:,0:].values \n",
    "inputClosing_scaled = sc.transform(inputClosing)\n",
    "inputClosing_scaled.shape\n",
    "X_test = []\n",
    "length = len(testData)\n",
    "timestep = 60\n",
    "for i in range(timestep,length):  \n",
    "    X_test.append(inputClosing_scaled[i-timestep:i,0])\n",
    "X_test = np.array(X_test)\n",
    "X_test = np.reshape(X_test,(X_test.shape[0],X_test.shape[1],1))\n",
    "X_test.shape"
   ]
  },
  {
   "cell_type": "code",
   "execution_count": 46,
   "id": "66e4aca9",
   "metadata": {},
   "outputs": [
    {
     "name": "stdout",
     "output_type": "stream",
     "text": [
      "6/6 [==============================] - 7s 70ms/step\n"
     ]
    },
    {
     "data": {
      "text/plain": [
       "array([[1.2222136],\n",
       "       [1.2237784],\n",
       "       [1.2332331],\n",
       "       [1.2485727],\n",
       "       [1.2625853],\n",
       "       [1.2662426],\n",
       "       [1.2585362],\n",
       "       [1.2448834],\n",
       "       [1.2344215],\n",
       "       [1.2299052],\n",
       "       [1.2227377],\n",
       "       [1.211863 ],\n",
       "       [1.2014245],\n",
       "       [1.1913974],\n",
       "       [1.1871767],\n",
       "       [1.188906 ],\n",
       "       [1.2026831],\n",
       "       [1.2268158],\n",
       "       [1.2565204],\n",
       "       [1.287949 ],\n",
       "       [1.3054473],\n",
       "       [1.3091631],\n",
       "       [1.2969707],\n",
       "       [1.2743812],\n",
       "       [1.2507273],\n",
       "       [1.2339619],\n",
       "       [1.2259248],\n",
       "       [1.2213614],\n",
       "       [1.2125655],\n",
       "       [1.201071 ],\n",
       "       [1.188579 ],\n",
       "       [1.1746893],\n",
       "       [1.1552483],\n",
       "       [1.1313157],\n",
       "       [1.1185712],\n",
       "       [1.1225274],\n",
       "       [1.1388986],\n",
       "       [1.1605389],\n",
       "       [1.1833342],\n",
       "       [1.1981148],\n",
       "       [1.2128462],\n",
       "       [1.2294538],\n",
       "       [1.2479615],\n",
       "       [1.2656119],\n",
       "       [1.278957 ],\n",
       "       [1.2840612],\n",
       "       [1.2788686],\n",
       "       [1.2723187],\n",
       "       [1.2694706],\n",
       "       [1.2727853],\n",
       "       [1.2823843],\n",
       "       [1.2899116],\n",
       "       [1.2929484],\n",
       "       [1.2914702],\n",
       "       [1.2903625],\n",
       "       [1.2873191],\n",
       "       [1.2802324],\n",
       "       [1.2756684],\n",
       "       [1.2812209],\n",
       "       [1.2950754],\n",
       "       [1.3168712],\n",
       "       [1.3446623],\n",
       "       [1.3670868],\n",
       "       [1.3760716],\n",
       "       [1.3713896],\n",
       "       [1.3576629],\n",
       "       [1.3457307],\n",
       "       [1.3396058],\n",
       "       [1.3394755],\n",
       "       [1.341731 ],\n",
       "       [1.3450078],\n",
       "       [1.3473123],\n",
       "       [1.3446709],\n",
       "       [1.3401314],\n",
       "       [1.3357289],\n",
       "       [1.3336936],\n",
       "       [1.3344499],\n",
       "       [1.3379616],\n",
       "       [1.3472853],\n",
       "       [1.3623117],\n",
       "       [1.3826361],\n",
       "       [1.4036299],\n",
       "       [1.4183363],\n",
       "       [1.4245986],\n",
       "       [1.4305547],\n",
       "       [1.4420744],\n",
       "       [1.4580182],\n",
       "       [1.4729892],\n",
       "       [1.4834402],\n",
       "       [1.4883841],\n",
       "       [1.4916502],\n",
       "       [1.499772 ],\n",
       "       [1.513864 ],\n",
       "       [1.525113 ],\n",
       "       [1.5274259],\n",
       "       [1.519606 ],\n",
       "       [1.5028318],\n",
       "       [1.4809831],\n",
       "       [1.460018 ],\n",
       "       [1.4480447],\n",
       "       [1.4473761],\n",
       "       [1.4563655],\n",
       "       [1.4723916],\n",
       "       [1.4891659],\n",
       "       [1.5020592],\n",
       "       [1.508248 ],\n",
       "       [1.5094697],\n",
       "       [1.5083102],\n",
       "       [1.5091982],\n",
       "       [1.5133818],\n",
       "       [1.5208691],\n",
       "       [1.5316156],\n",
       "       [1.5433321],\n",
       "       [1.5562576],\n",
       "       [1.5719374],\n",
       "       [1.5863448],\n",
       "       [1.5984527],\n",
       "       [1.6090847],\n",
       "       [1.6209127],\n",
       "       [1.611658 ],\n",
       "       [1.5777916],\n",
       "       [1.5286037],\n",
       "       [1.4817616],\n",
       "       [1.4476991],\n",
       "       [1.4259871],\n",
       "       [1.4131681],\n",
       "       [1.4060459],\n",
       "       [1.4033446],\n",
       "       [1.3973415],\n",
       "       [1.385041 ],\n",
       "       [1.378117 ],\n",
       "       [1.3832102],\n",
       "       [1.3951527],\n",
       "       [1.4039696],\n",
       "       [1.4087161],\n",
       "       [1.4106456],\n",
       "       [1.408902 ],\n",
       "       [1.4030362],\n",
       "       [1.3949035],\n",
       "       [1.3830475],\n",
       "       [1.3695253],\n",
       "       [1.3540097],\n",
       "       [1.3248334],\n",
       "       [1.2881284],\n",
       "       [1.2499439],\n",
       "       [1.2169394],\n",
       "       [1.1973573],\n",
       "       [1.1951786],\n",
       "       [1.2069466],\n",
       "       [1.2260355],\n",
       "       [1.2486753],\n",
       "       [1.2701746],\n",
       "       [1.2888788],\n",
       "       [1.3057455],\n",
       "       [1.3199846],\n",
       "       [1.3324752],\n",
       "       [1.3448704],\n",
       "       [1.3551959],\n",
       "       [1.3562794],\n",
       "       [1.3466974],\n",
       "       [1.3292665],\n",
       "       [1.309852 ],\n",
       "       [1.2961695],\n",
       "       [1.2930678],\n",
       "       [1.3013407],\n",
       "       [1.3189727],\n",
       "       [1.3376745],\n",
       "       [1.354026 ],\n",
       "       [1.3693289],\n",
       "       [1.3837969],\n",
       "       [1.3964139],\n",
       "       [1.407102 ],\n",
       "       [1.4158889],\n",
       "       [1.4208504],\n",
       "       [1.421793 ],\n",
       "       [1.416313 ],\n",
       "       [1.4075412],\n",
       "       [1.3999907],\n",
       "       [1.3937277],\n",
       "       [1.3876222],\n",
       "       [1.4058417],\n",
       "       [1.445613 ],\n",
       "       [1.4915613],\n",
       "       [1.5295566],\n",
       "       [1.5520383],\n",
       "       [1.5562619],\n",
       "       [1.5379798],\n",
       "       [1.5083494],\n",
       "       [1.4780985],\n",
       "       [1.4600326],\n",
       "       [1.452597 ],\n",
       "       [1.449576 ]], dtype=float32)"
      ]
     },
     "execution_count": 46,
     "metadata": {},
     "output_type": "execute_result"
    }
   ],
   "source": [
    "y_pred = model.predict(X_test)\n",
    "y_pred"
   ]
  },
  {
   "cell_type": "code",
   "execution_count": 47,
   "id": "1bdd7206",
   "metadata": {},
   "outputs": [],
   "source": [
    "predicted_price = sc.inverse_transform(y_pred)"
   ]
  },
  {
   "cell_type": "code",
   "execution_count": 48,
   "id": "b9453193",
   "metadata": {},
   "outputs": [
    {
     "data": {
      "image/png": "[encoded data removed]",
      "text/plain": [
       "<Figure size 432x288 with 1 Axes>"
      ]
     },
     "metadata": {
      "needs_background": "light"
     },
     "output_type": "display_data"
    }
   ],
   "source": [
    "plt.plot(y_test, color = 'red', label = 'Actual Stock Price')\n",
    "plt.plot(predicted_price, color = 'green', label = 'Predicted Stock Price')\n",
    "plt.title('Google stock price prediction')\n",
    "plt.xlabel('Time')\n",
    "plt.ylabel('Stock Price')\n",
    "plt.legend()\n",
    "plt.show()"
   ]
  },
  {
   "cell_type": "code",
   "execution_count": null,
   "id": "b421a98b",
   "metadata": {},
   "outputs": [],
   "source": []
  }
 ],
 "metadata": {
  "kernelspec": {
   "display_name": "Python 3 (ipykernel)",
   "language": "python",
   "name": "python3"
  },
  "language_info": {
   "codemirror_mode": {
    "name": "ipython",
    "version": 3
   },
   "file_extension": ".py",
   "mimetype": "text/x-python",
   "name": "python",
   "nbconvert_exporter": "python",
   "pygments_lexer": "ipython3",
   "version": "3.9.12"
  }
 },
 "nbformat": 4,
 "nbformat_minor": 5
}
